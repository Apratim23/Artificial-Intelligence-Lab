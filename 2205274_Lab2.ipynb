{
  "nbformat": 4,
  "nbformat_minor": 0,
  "metadata": {
    "colab": {
      "provenance": []
    },
    "kernelspec": {
      "name": "python3",
      "display_name": "Python 3"
    },
    "language_info": {
      "name": "python"
    }
  },
  "cells": [
    {
      "cell_type": "markdown",
      "source": [
        "WRITE A PROGRAM TO SOLVE A MAZE PROBLEM USING BFS-DFS."
      ],
      "metadata": {
        "id": "4rU_wzN-44JD"
      }
    },
    {
      "cell_type": "code",
      "execution_count": 1,
      "metadata": {
        "colab": {
          "base_uri": "https://localhost:8080/"
        },
        "id": "EVc9bR0M4BBh",
        "outputId": "8886a4b4-2d91-4fd2-aa27-52979793c31d"
      },
      "outputs": [
        {
          "output_type": "stream",
          "name": "stdout",
          "text": [
            "BFS:\n",
            "Path: [(0, 0), (1, 0), (1, 1), (1, 2), (2, 2), (3, 2), (3, 3), (3, 4), (4, 4)]\n",
            "Nodes Explored: 17\n",
            "\n",
            "DFS:\n",
            "Path: [(0, 0), (1, 0), (1, 1), (1, 2), (2, 2), (3, 2), (3, 3), (3, 4), (4, 4)]\n",
            "Nodes Explored: 9\n"
          ]
        }
      ],
      "source": [
        "def bfs(maze, start, end):\n",
        "    rows, cols = len(maze), len(maze[0])\n",
        "    visited = [[False] * cols for _ in range(rows)]\n",
        "    queue = [(start, [start])]  # (current_position, path_so_far)\n",
        "    visited[start[0]][start[1]] = True\n",
        "    nodes_explored = 0\n",
        "\n",
        "    while queue:\n",
        "        (x, y), path = queue.pop(0)\n",
        "        nodes_explored += 1\n",
        "\n",
        "        if (x, y) == end:\n",
        "            return path, nodes_explored\n",
        "\n",
        "        for dx, dy in [(-1, 0), (1, 0), (0, -1), (0, 1)]:\n",
        "            nx, ny = x + dx, y + dy\n",
        "            if 0 <= nx < rows and 0 <= ny < cols and maze[nx][ny] == 1 and not visited[nx][ny]:\n",
        "                visited[nx][ny] = True\n",
        "                queue.append(((nx, ny), path + [(nx, ny)]))\n",
        "\n",
        "    return None, nodes_explored  # No path found\n",
        "\n",
        "def dfs(maze, start, end):\n",
        "    rows, cols = len(maze), len(maze[0])\n",
        "    visited = [[False] * cols for _ in range(rows)]\n",
        "    stack = [(start, [start])]\n",
        "    nodes_explored = 0\n",
        "\n",
        "    while stack:\n",
        "        (x, y), path = stack.pop()\n",
        "        nodes_explored += 1\n",
        "\n",
        "        if (x, y) == end:\n",
        "            return path, nodes_explored\n",
        "\n",
        "        if not visited[x][y]:\n",
        "            visited[x][y] = True\n",
        "\n",
        "            for dx, dy in [(-1, 0), (1, 0), (0, -1), (0, 1)]:\n",
        "                nx, ny = x + dx, y + dy\n",
        "                if 0 <= nx < rows and 0 <= ny < cols and maze[nx][ny] == 1 and not visited[nx][ny]:\n",
        "                    stack.append(((nx, ny), path + [(nx, ny)]))\n",
        "\n",
        "    return None, nodes_explored  # No path found\n",
        "\n",
        "def compare_bfs_dfs(maze, start, end):\n",
        "    bfs_path, bfs_explored = bfs(maze, start, end)\n",
        "    dfs_path, dfs_explored = dfs(maze, start, end)\n",
        "\n",
        "    print(\"BFS:\")\n",
        "    print(\"Path:\", bfs_path)\n",
        "    print(\"Nodes Explored:\", bfs_explored)\n",
        "\n",
        "    print(\"\\nDFS:\")\n",
        "    print(\"Path:\", dfs_path)\n",
        "    print(\"Nodes Explored:\", dfs_explored)\n",
        "\n",
        "# Example maze\n",
        "maze = [\n",
        "    [1, 0, 1, 1, 1],\n",
        "    [1, 1, 1, 0, 1],\n",
        "    [0, 0, 1, 0, 1],\n",
        "    [1, 1, 1, 1, 1],\n",
        "    [1, 0, 0, 0, 1]\n",
        "]\n",
        "\n",
        "start = (0, 0)  # Starting position\n",
        "end = (4, 4)    # Ending position\n",
        "\n",
        "compare_bfs_dfs(maze, start, end)"
      ]
    }
  ]
}